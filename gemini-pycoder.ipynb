{
 "cells": [
  {
   "cell_type": "code",
   "execution_count": 1,
   "id": "d7c0fa22-407b-430f-89e1-dad9b010aaed",
   "metadata": {},
   "outputs": [],
   "source": [
    "import google.generativeai as genai"
   ]
  },
  {
   "cell_type": "code",
   "execution_count": 2,
   "id": "67d386a2-c43f-495b-a954-2d32b25bcf3e",
   "metadata": {},
   "outputs": [],
   "source": [
    " import gradio as gr"
   ]
  },
  {
   "cell_type": "code",
   "execution_count": 3,
   "id": "27cf6b74-b83c-4322-9a2b-6ca99103c04e",
   "metadata": {},
   "outputs": [],
   "source": [
    " genai.configure(api_key=\"api_key\")"
   ]
  },
  {
   "cell_type": "code",
   "execution_count": 4,
   "id": "b363d2d9-56b4-45ac-be97-c7756ff101cc",
   "metadata": {},
   "outputs": [],
   "source": [
    "model = genai.GenerativeModel(\"gemini-1.5-flash\")  "
   ]
  },
  {
   "cell_type": "code",
   "execution_count": 9,
   "id": "2e1bdd82-24fa-489c-9556-f65d8fc7bf92",
   "metadata": {},
   "outputs": [],
   "source": [
    "def answer_code_question(question):\n",
    "        myprompt = f\"You are a Python assistant. Answer the following question:\\n{question}\"\n",
    "        response =  model.generate_content(myprompt)\n",
    "        return response.text"
   ]
  },
  {
   "cell_type": "code",
   "execution_count": 11,
   "id": "313901ee-a687-49ab-83f9-1adce3335cef",
   "metadata": {},
   "outputs": [
    {
     "name": "stdout",
     "output_type": "stream",
     "text": [
      "* Running on local URL:  http://127.0.0.1:7860\n",
      "* To create a public link, set `share=True` in `launch()`.\n"
     ]
    },
    {
     "data": {
      "text/html": [
       "<div><iframe src=\"http://127.0.0.1:7860/\" width=\"100%\" height=\"500\" allow=\"autoplay; camera; microphone; clipboard-read; clipboard-write;\" frameborder=\"0\" allowfullscreen></iframe></div>"
      ],
      "text/plain": [
       "<IPython.core.display.HTML object>"
      ]
     },
     "metadata": {},
     "output_type": "display_data"
    }
   ],
   "source": [
    " iface = gr.Interface(\n",
    "        fn=answer_code_question,\n",
    "        inputs=gr.Textbox(lines=2, placeholder=\"Ask a Python question...\"),\n",
    "        outputs=\"text\",\n",
    "        title=\"Python Code Helper\",\n",
    "        description=\"Ask coding questions and get help instantly from an LLM.\"\n",
    "     ).launch()"
   ]
  },
  {
   "cell_type": "code",
   "execution_count": null,
   "id": "9bd637a0-c75f-44a6-84ba-77cf9d0a5a2f",
   "metadata": {},
   "outputs": [],
   "source": []
  }
 ],
 "metadata": {
  "kernelspec": {
   "display_name": "Python 3 (ipykernel)",
   "language": "python",
   "name": "python3"
  },
  "language_info": {
   "codemirror_mode": {
    "name": "ipython",
    "version": 3
   },
   "file_extension": ".py",
   "mimetype": "text/x-python",
   "name": "python",
   "nbconvert_exporter": "python",
   "pygments_lexer": "ipython3",
   "version": "3.12.7"
  }
 },
 "nbformat": 4,
 "nbformat_minor": 5
}
